{
 "cells": [
  {
   "cell_type": "code",
   "execution_count": 1,
   "id": "initial_id",
   "metadata": {
    "collapsed": true,
    "ExecuteTime": {
     "end_time": "2023-12-17T18:24:54.161408Z",
     "start_time": "2023-12-17T18:24:51.605076200Z"
    }
   },
   "outputs": [],
   "source": [
    "\n",
    "import torchvision\n",
    "import torchvision.transforms as transforms\n"
   ]
  },
  {
   "cell_type": "code",
   "execution_count": 2,
   "outputs": [
    {
     "name": "stdout",
     "output_type": "stream",
     "text": [
      "Files already downloaded and verified\n",
      "Files already downloaded and verified\n"
     ]
    }
   ],
   "source": [
    "\n",
    "transform = transforms.Compose([\n",
    "    transforms.Resize((224, 224)),\n",
    "    transforms.ToTensor()\n",
    "])\n",
    "\n",
    "train_set = torchvision.datasets.CIFAR10(root='./data', train=True,\n",
    "                                         download=True, transform=transform)\n",
    "test_set = torchvision.datasets.CIFAR10(root='./data', train=False,\n",
    "                                        download=True, transform=transform)"
   ],
   "metadata": {
    "collapsed": false,
    "ExecuteTime": {
     "end_time": "2023-12-17T18:24:55.495212600Z",
     "start_time": "2023-12-17T18:24:54.163404300Z"
    }
   },
   "id": "c54de70ee551ac6e"
  },
  {
   "cell_type": "code",
   "execution_count": 3,
   "outputs": [],
   "source": [
    "import torch\n",
    "\n",
    "batch_size = 10\n",
    "train_loader = torch.utils.data.DataLoader(train_set,\n",
    "                                           batch_size=batch_size,\n",
    "                                           shuffle=True,\n",
    "                                           num_workers=4,\n",
    "                                           pin_memory=True,\n",
    "                                           persistent_workers=True)\n",
    "test_loader = torch.utils.data.DataLoader(test_set,\n",
    "                                          batch_size=batch_size,\n",
    "                                          shuffle=False,\n",
    "                                          num_workers=4,\n",
    "                                          pin_memory=True,\n",
    "                                          persistent_workers=True)"
   ],
   "metadata": {
    "collapsed": false,
    "ExecuteTime": {
     "end_time": "2023-12-17T18:24:55.510915300Z",
     "start_time": "2023-12-17T18:24:55.492213100Z"
    }
   },
   "id": "a19615e161ff0dd5"
  },
  {
   "cell_type": "code",
   "execution_count": 4,
   "outputs": [],
   "source": [
    "from pytorch_lightning.callbacks import ModelCheckpoint\n",
    "import pytorch_lightning as pl\n",
    "\n",
    "checkpoint_callback = ModelCheckpoint(\n",
    "    dirpath='./checkpoints',\n",
    "    filename=\"classifier_{epoch:02d}\",\n",
    "    every_n_epochs=5,\n",
    "    save_top_k=-1,\n",
    ")"
   ],
   "metadata": {
    "collapsed": false,
    "ExecuteTime": {
     "end_time": "2023-12-17T18:24:56.986799700Z",
     "start_time": "2023-12-17T18:24:55.507361600Z"
    }
   },
   "id": "31596e3b44a85665"
  },
  {
   "cell_type": "code",
   "execution_count": 5,
   "outputs": [
    {
     "name": "stderr",
     "output_type": "stream",
     "text": [
      "INFO:pytorch_lightning.utilities.rank_zero:GPU available: True (cuda), used: True\n",
      "INFO:pytorch_lightning.utilities.rank_zero:TPU available: False, using: 0 TPU cores\n",
      "INFO:pytorch_lightning.utilities.rank_zero:IPU available: False, using: 0 IPUs\n",
      "INFO:pytorch_lightning.utilities.rank_zero:HPU available: False, using: 0 HPUs\n"
     ]
    }
   ],
   "source": [
    "\n",
    "trainer = pl.Trainer(accelerator='gpu', max_epochs=15, callbacks=[checkpoint_callback])\n"
   ],
   "metadata": {
    "collapsed": false,
    "ExecuteTime": {
     "end_time": "2023-12-17T18:24:57.317793300Z",
     "start_time": "2023-12-17T18:24:56.987779400Z"
    }
   },
   "id": "1208b44df150ff19"
  },
  {
   "cell_type": "code",
   "execution_count": 6,
   "outputs": [],
   "source": [
    "from lab4.inception import Inception\n",
    "\n",
    "#model = Inception(num_classes=10)\n",
    "model = Inception.load_from_checkpoint('./checkpoints/classifier_epoch=09.ckpt', num_classes=10)"
   ],
   "metadata": {
    "collapsed": false,
    "ExecuteTime": {
     "end_time": "2023-12-17T18:24:58.182884600Z",
     "start_time": "2023-12-17T18:24:57.313267100Z"
    }
   },
   "id": "217206764cff7cac"
  },
  {
   "cell_type": "code",
   "execution_count": 7,
   "outputs": [],
   "source": [
    "torch.set_float32_matmul_precision('medium')"
   ],
   "metadata": {
    "collapsed": false,
    "ExecuteTime": {
     "end_time": "2023-12-17T18:24:58.198234200Z",
     "start_time": "2023-12-17T18:24:58.183834300Z"
    }
   },
   "id": "206bde6312e4a66f"
  },
  {
   "cell_type": "markdown",
   "source": [],
   "metadata": {
    "collapsed": false
   },
   "id": "1dc652499d551743"
  },
  {
   "cell_type": "code",
   "execution_count": 20,
   "outputs": [
    {
     "name": "stderr",
     "output_type": "stream",
     "text": [
      "WARNING:tensorflow:From C:\\Users\\azari\\AppData\\Local\\Programs\\Python\\ml_labs\\venv\\lib\\site-packages\\keras\\src\\losses.py:2976: The name tf.losses.sparse_softmax_cross_entropy is deprecated. Please use tf.compat.v1.losses.sparse_softmax_cross_entropy instead.\n",
      "\n",
      "INFO:pytorch_lightning.accelerators.cuda:LOCAL_RANK: 0 - CUDA_VISIBLE_DEVICES: [0]\n",
      "INFO:pytorch_lightning.callbacks.model_summary:\n",
      "   | Name        | Type           | Params\n",
      "------------------------------------------------\n",
      "0  | conv1       | ConvBlock      | 9.6 K \n",
      "1  | conv2       | ConvBlock      | 111 K \n",
      "2  | maxpool     | MaxPool2d      | 0     \n",
      "3  | avgpool     | AvgPool2d      | 0     \n",
      "4  | dropout     | Dropout        | 0     \n",
      "5  | linear      | Linear         | 10.2 K\n",
      "6  | auxiliary4a | Auxiliary      | 2.2 M \n",
      "7  | auxiliary4d | Auxiliary      | 2.2 M \n",
      "8  | inception3a | InceptionBlock | 164 K \n",
      "9  | inception3b | InceptionBlock | 390 K \n",
      "10 | inception4a | InceptionBlock | 377 K \n",
      "11 | inception4b | InceptionBlock | 450 K \n",
      "12 | inception4c | InceptionBlock | 511 K \n",
      "13 | inception4d | InceptionBlock | 606 K \n",
      "14 | inception4e | InceptionBlock | 870 K \n",
      "15 | inception5a | InceptionBlock | 1.0 M \n",
      "16 | inception5b | InceptionBlock | 1.4 M \n",
      "------------------------------------------------\n",
      "10.3 M    Trainable params\n",
      "0         Non-trainable params\n",
      "10.3 M    Total params\n",
      "41.379    Total estimated model params size (MB)\n"
     ]
    },
    {
     "data": {
      "text/plain": "Training: |          | 0/? [00:00<?, ?it/s]",
      "application/vnd.jupyter.widget-view+json": {
       "version_major": 2,
       "version_minor": 0,
       "model_id": "ce72164e3501406382e37b568d02cb80"
      }
     },
     "metadata": {},
     "output_type": "display_data"
    },
    {
     "name": "stderr",
     "output_type": "stream",
     "text": [
      "C:\\Users\\azari\\AppData\\Local\\Programs\\Python\\ml_labs\\venv\\lib\\site-packages\\pytorch_lightning\\trainer\\call.py:54: Detected KeyboardInterrupt, attempting graceful shutdown...\n"
     ]
    }
   ],
   "source": [
    "trainer.fit(model, train_dataloaders=train_loader)"
   ],
   "metadata": {
    "collapsed": false,
    "ExecuteTime": {
     "end_time": "2023-12-17T17:43:06.670404400Z",
     "start_time": "2023-12-17T17:11:21.799540300Z"
    }
   },
   "id": "7523658a9c0f0b5d"
  },
  {
   "cell_type": "code",
   "execution_count": 8,
   "outputs": [
    {
     "name": "stderr",
     "output_type": "stream",
     "text": [
      "WARNING:tensorflow:From C:\\Users\\azari\\AppData\\Local\\Programs\\Python\\ml_labs\\venv\\lib\\site-packages\\keras\\src\\losses.py:2976: The name tf.losses.sparse_softmax_cross_entropy is deprecated. Please use tf.compat.v1.losses.sparse_softmax_cross_entropy instead.\n",
      "\n",
      "INFO:pytorch_lightning.accelerators.cuda:LOCAL_RANK: 0 - CUDA_VISIBLE_DEVICES: [0]\n"
     ]
    },
    {
     "data": {
      "text/plain": "Testing: |          | 0/? [00:00<?, ?it/s]",
      "application/vnd.jupyter.widget-view+json": {
       "version_major": 2,
       "version_minor": 0,
       "model_id": "3a71a4adfdcf47baa878f992b1f1cf38"
      }
     },
     "metadata": {},
     "output_type": "display_data"
    },
    {
     "name": "stdout",
     "output_type": "stream",
     "text": [
      "              precision    recall  f1-score   support\n",
      "\n",
      "           0       0.85      0.86      0.85      1000\n",
      "           1       0.94      0.92      0.93      1000\n",
      "           2       0.73      0.88      0.80      1000\n",
      "           3       0.75      0.76      0.76      1000\n",
      "           4       0.91      0.77      0.84      1000\n",
      "           5       0.83      0.77      0.80      1000\n",
      "           6       0.89      0.89      0.89      1000\n",
      "           7       0.94      0.84      0.89      1000\n",
      "           8       0.90      0.93      0.91      1000\n",
      "           9       0.88      0.95      0.91      1000\n",
      "\n",
      "    accuracy                           0.86     10000\n",
      "   macro avg       0.86      0.86      0.86     10000\n",
      "weighted avg       0.86      0.86      0.86     10000\n"
     ]
    },
    {
     "data": {
      "text/plain": "┏━━━━━━━━━━━━━━━━━━━━━━━━━━━┳━━━━━━━━━━━━━━━━━━━━━━━━━━━┓\n┃\u001B[1m \u001B[0m\u001B[1m       Test metric       \u001B[0m\u001B[1m \u001B[0m┃\u001B[1m \u001B[0m\u001B[1m      DataLoader 0       \u001B[0m\u001B[1m \u001B[0m┃\n┡━━━━━━━━━━━━━━━━━━━━━━━━━━━╇━━━━━━━━━━━━━━━━━━━━━━━━━━━┩\n│\u001B[36m \u001B[0m\u001B[36m   test_accuracy_epoch   \u001B[0m\u001B[36m \u001B[0m│\u001B[35m \u001B[0m\u001B[35m    0.857200026512146    \u001B[0m\u001B[35m \u001B[0m│\n│\u001B[36m \u001B[0m\u001B[36m     test_loss_epoch     \u001B[0m\u001B[36m \u001B[0m│\u001B[35m \u001B[0m\u001B[35m   0.5536240935325623    \u001B[0m\u001B[35m \u001B[0m│\n└───────────────────────────┴───────────────────────────┘\n",
      "text/html": "<pre style=\"white-space:pre;overflow-x:auto;line-height:normal;font-family:Menlo,'DejaVu Sans Mono',consolas,'Courier New',monospace\">┏━━━━━━━━━━━━━━━━━━━━━━━━━━━┳━━━━━━━━━━━━━━━━━━━━━━━━━━━┓\n┃<span style=\"font-weight: bold\">        Test metric        </span>┃<span style=\"font-weight: bold\">       DataLoader 0        </span>┃\n┡━━━━━━━━━━━━━━━━━━━━━━━━━━━╇━━━━━━━━━━━━━━━━━━━━━━━━━━━┩\n│<span style=\"color: #008080; text-decoration-color: #008080\">    test_accuracy_epoch    </span>│<span style=\"color: #800080; text-decoration-color: #800080\">     0.857200026512146     </span>│\n│<span style=\"color: #008080; text-decoration-color: #008080\">      test_loss_epoch      </span>│<span style=\"color: #800080; text-decoration-color: #800080\">    0.5536240935325623     </span>│\n└───────────────────────────┴───────────────────────────┘\n</pre>\n"
     },
     "metadata": {},
     "output_type": "display_data"
    },
    {
     "data": {
      "text/plain": "[{'test_loss_epoch': 0.5536240935325623,\n  'test_accuracy_epoch': 0.857200026512146}]"
     },
     "execution_count": 8,
     "metadata": {},
     "output_type": "execute_result"
    }
   ],
   "source": [
    "trainer.test(model, test_loader)"
   ],
   "metadata": {
    "collapsed": false,
    "ExecuteTime": {
     "end_time": "2023-12-17T18:25:25.348154300Z",
     "start_time": "2023-12-17T18:24:58.199234200Z"
    }
   },
   "id": "10cbd8478d648ccf"
  },
  {
   "cell_type": "code",
   "execution_count": null,
   "outputs": [],
   "source": [],
   "metadata": {
    "collapsed": false
   },
   "id": "a0cb1e87724be40d"
  }
 ],
 "metadata": {
  "kernelspec": {
   "display_name": "Python 3",
   "language": "python",
   "name": "python3"
  },
  "language_info": {
   "codemirror_mode": {
    "name": "ipython",
    "version": 2
   },
   "file_extension": ".py",
   "mimetype": "text/x-python",
   "name": "python",
   "nbconvert_exporter": "python",
   "pygments_lexer": "ipython2",
   "version": "2.7.6"
  }
 },
 "nbformat": 4,
 "nbformat_minor": 5
}
